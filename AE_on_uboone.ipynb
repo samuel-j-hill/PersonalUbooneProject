{
  "cells": [
    {
      "cell_type": "code",
      "execution_count": 1,
      "metadata": {
        "id": "zh0mxS6-74-v"
      },
      "outputs": [],
      "source": [
        "import numpy as np\n",
        "import matplotlib.pyplot as plt\n",
        "import torch\n",
        "import torch.nn as nn\n",
        "from sklearn.model_selection import train_test_split\n",
        "\n",
        "from models import ConvAutoencoder\n",
        "from utils import Config, save_output, weighted_mse"
      ]
    },
    {
      "cell_type": "code",
      "execution_count": 2,
      "metadata": {
        "id": "NXUG_-b874-x"
      },
      "outputs": [],
      "source": [
        "# Initialise config\n",
        "config = Config()"
      ]
    },
    {
      "cell_type": "code",
      "execution_count": 3,
      "metadata": {
        "colab": {
          "base_uri": "https://localhost:8080/"
        },
        "id": "UFCWYV_274-x",
        "outputId": "66ec873f-eb26-4600-84dd-b9d748ee35be"
      },
      "outputs": [
        {
          "name": "stderr",
          "output_type": "stream",
          "text": [
            "<ipython-input-3-a742bd629500>:5: UserWarning: Creating a tensor from a list of numpy.ndarrays is extremely slow. Please consider converting the list to a single numpy.ndarray with numpy.array() before converting to a tensor. (Triggered internally at ../torch/csrc/utils/tensor_new.cpp:278.)\n",
            "  train_tensor = torch.Tensor(train_array)\n"
          ]
        }
      ],
      "source": [
        "# Preprocess data\n",
        "input_data = np.load(config.input_path)\n",
        "input_data = [((i - np.min(input_data)) / (np.max(input_data) - np.min(input_data))) for i in input_data]\n",
        "train_array, test_array = train_test_split(input_data, test_size=config.test_size, shuffle=True)\n",
        "train_tensor = torch.Tensor(train_array)\n",
        "test_tensor = torch.Tensor(test_array)\n",
        "\n",
        "train_ds = torch.utils.data.TensorDataset(train_tensor)\n",
        "test_ds = torch.utils.data.TensorDataset(test_tensor)\n",
        "train_dl = torch.utils.data.DataLoader(dataset=train_ds, batch_size=config.batch_size, shuffle=True, num_workers=config.num_workers)\n",
        "test_dl = torch.utils.data.DataLoader(dataset=test_ds, batch_size=config.batch_size, shuffle=False, num_workers=config.num_workers)"
      ]
    },
    {
      "cell_type": "code",
      "execution_count": 4,
      "metadata": {
        "colab": {
          "base_uri": "https://localhost:8080/"
        },
        "id": "UMKxL0L374-y",
        "outputId": "d87b5aef-aca6-47fd-fd9e-752c373ac06f"
      },
      "outputs": [
        {
          "name": "stdout",
          "output_type": "stream",
          "text": [
            "Device:  cuda\n"
          ]
        }
      ],
      "source": [
        "# Initialise model\n",
        "device = torch.device(\"cuda\" if torch.cuda.is_available() else \"cpu\")\n",
        "print(\"Device: \", device)\n",
        "model = ConvAutoencoder(config.z_dim)\n",
        "model.to(device)\n",
        "\n",
        "optimizer = torch.optim.RMSprop(model.parameters(), config.lr)"
      ]
    },
    {
      "cell_type": "code",
      "execution_count": null,
      "metadata": {
        "colab": {
          "base_uri": "https://localhost:8080/"
        },
        "id": "o5GahwxpuQbK",
        "outputId": "1100385b-3810-4bb9-d8de-ee618b7a4ea2"
      },
      "outputs": [],
      "source": [
        "train_loss_values = []\n",
        "test_loss_values = []\n",
        "\n",
        "scaler = torch.cuda.amp.GradScaler() \n",
        "\n",
        "for epoch in range(config.n_epochs):\n",
        "    print(f\"Epoch {epoch + 1}\")\n",
        "    running_train_loss = 0\n",
        "    running_test_loss = 0\n",
        "\n",
        "    model.train()\n",
        "    optimizer.zero_grad()\n",
        "\n",
        "    for train_idx, (inputs,) in enumerate(train_dl):\n",
        "\n",
        "        inputs = inputs.view(-1, 1, 534, 1200).to(device)\n",
        "\n",
        "        with torch.cuda.amp.autocast():  \n",
        "            outputs = model(inputs)\n",
        "            loss = weighted_mse(inputs, outputs, config.weighting_parameter)\n",
        "\n",
        "        scaler.scale(loss).backward()  \n",
        "\n",
        "        scaler.step(optimizer)\n",
        "        scaler.update()\n",
        "\n",
        "        optimizer.zero_grad()  \n",
        "        running_train_loss += loss.item()\n",
        "\n",
        "    model.eval()\n",
        "\n",
        "    with torch.no_grad():\n",
        "\n",
        "        for test_idx, (inputs,) in enumerate(test_dl):\n",
        "\n",
        "            inputs = inputs.view(-1, 1, 534, 1200).to(device)\n",
        "\n",
        "            with torch.cuda.amp.autocast():  \n",
        "                outputs = model(inputs)\n",
        "                loss = weighted_mse(inputs, outputs, config.weighting_parameter)\n",
        "\n",
        "            running_test_loss += loss.item()\n",
        "\n",
        "    train_loss_values.append(running_train_loss / train_idx)\n",
        "    test_loss_values.append(running_test_loss / test_idx)"
      ]
    },
    {
      "cell_type": "code",
      "execution_count": null,
      "metadata": {
        "id": "XW6WbjrX74-0"
      },
      "outputs": [],
      "source": [
        "save_output(config, model)"
      ]
    },
    {
      "cell_type": "code",
      "execution_count": null,
      "metadata": {
        "colab": {
          "base_uri": "https://localhost:8080/",
          "height": 507
        },
        "id": "_octRcup74-0",
        "outputId": "4149dafa-532c-4d0c-9157-f6779176dca6"
      },
      "outputs": [],
      "source": [
        "plt.plot(range(len(train_loss_values)), train_loss_values, label=\"Training loss\")\n",
        "plt.plot(range(len(test_loss_values)), test_loss_values, label=\"Test loss\")\n",
        "plt.title(f\"lr = {config.lr}, bs = {config.batch_size}, num_epochs = {config.n_epochs}\")\n",
        "plt.ylabel(\"Loss\")\n",
        "plt.xlabel(\"Epochs\")\n",
        "plt.legend()\n",
        "plt.savefig(config.output_directory + \"loss_plot.png\")\n",
        "plt.show()\n",
        "\n",
        "print(f\"Final training loss: {train_loss_values[-1]}\")\n",
        "print(f\"Final test loss: {test_loss_values[-1]}\")"
      ]
    },
    {
      "cell_type": "code",
      "execution_count": null,
      "metadata": {
        "colab": {
          "base_uri": "https://localhost:8080/",
          "height": 286
        },
        "id": "F86jDVHa74-1",
        "outputId": "f41e2a7d-1866-4176-c3cc-a709771e4176"
      },
      "outputs": [],
      "source": [
        "with torch.no_grad():\n",
        "    input_tensor = train_tensor[1].view(1, 1, 534, 1200).to(device)\n",
        "    example_output = model(input_tensor).to(device)\n",
        "    example_output = example_output.reshape(534,1200)\n",
        "    example_output = example_output.cpu().detach().numpy()\n",
        "    plt.imshow(example_output, cmap=\"jet\")\n",
        "    plt.show()"
      ]
    }
  ],
  "metadata": {
    "accelerator": "GPU",
    "colab": {
      "gpuType": "T4",
      "provenance": []
    },
    "kernelspec": {
      "display_name": "Python 3",
      "name": "python3"
    },
    "language_info": {
      "codemirror_mode": {
        "name": "ipython",
        "version": 3
      },
      "file_extension": ".py",
      "mimetype": "text/x-python",
      "name": "python",
      "nbconvert_exporter": "python",
      "pygments_lexer": "ipython3",
      "version": "3.12.5"
    }
  },
  "nbformat": 4,
  "nbformat_minor": 0
}
